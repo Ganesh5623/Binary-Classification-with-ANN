{
 "cells": [
  {
   "cell_type": "markdown",
   "id": "cc86ab28",
   "metadata": {},
   "source": [
    "binary classification <br>\n",
    "------in the o/p<br>\n",
    "----------Sigmoid ---> 1 o/p neurons<br>\n",
    "----------Softmax ----> 2 o/p neurons<br>"
   ]
  },
  {
   "cell_type": "markdown",
   "id": "1e5f40af",
   "metadata": {},
   "source": [
    "Multiclass classification <br>\n",
    "------in the o/p<br>\n",
    "----------Softmax ----> N o/p neurons (N no of classes) <br>"
   ]
  },
  {
   "cell_type": "code",
   "execution_count": 1,
   "id": "7f1cf459",
   "metadata": {},
   "outputs": [],
   "source": [
    "import pandas as pd "
   ]
  },
  {
   "cell_type": "code",
   "execution_count": 2,
   "id": "0b4cfd3d",
   "metadata": {},
   "outputs": [],
   "source": [
    "data = pd.read_csv('diabetes.csv')"
   ]
  },
  {
   "cell_type": "code",
   "execution_count": 3,
   "id": "a01b4d78",
   "metadata": {},
   "outputs": [
    {
     "data": {
      "text/html": [
       "<div>\n",
       "<style scoped>\n",
       "    .dataframe tbody tr th:only-of-type {\n",
       "        vertical-align: middle;\n",
       "    }\n",
       "\n",
       "    .dataframe tbody tr th {\n",
       "        vertical-align: top;\n",
       "    }\n",
       "\n",
       "    .dataframe thead th {\n",
       "        text-align: right;\n",
       "    }\n",
       "</style>\n",
       "<table border=\"1\" class=\"dataframe\">\n",
       "  <thead>\n",
       "    <tr style=\"text-align: right;\">\n",
       "      <th></th>\n",
       "      <th>Pregnancies</th>\n",
       "      <th>Glucose</th>\n",
       "      <th>BloodPressure</th>\n",
       "      <th>SkinThickness</th>\n",
       "      <th>Insulin</th>\n",
       "      <th>BMI</th>\n",
       "      <th>DiabetesPedigreeFunction</th>\n",
       "      <th>Age</th>\n",
       "      <th>Outcome</th>\n",
       "    </tr>\n",
       "  </thead>\n",
       "  <tbody>\n",
       "    <tr>\n",
       "      <th>0</th>\n",
       "      <td>6</td>\n",
       "      <td>148</td>\n",
       "      <td>72</td>\n",
       "      <td>35</td>\n",
       "      <td>0</td>\n",
       "      <td>33.6</td>\n",
       "      <td>0.627</td>\n",
       "      <td>50</td>\n",
       "      <td>1</td>\n",
       "    </tr>\n",
       "    <tr>\n",
       "      <th>1</th>\n",
       "      <td>1</td>\n",
       "      <td>85</td>\n",
       "      <td>66</td>\n",
       "      <td>29</td>\n",
       "      <td>0</td>\n",
       "      <td>26.6</td>\n",
       "      <td>0.351</td>\n",
       "      <td>31</td>\n",
       "      <td>0</td>\n",
       "    </tr>\n",
       "  </tbody>\n",
       "</table>\n",
       "</div>"
      ],
      "text/plain": [
       "   Pregnancies  Glucose  BloodPressure  SkinThickness  Insulin   BMI  \\\n",
       "0            6      148             72             35        0  33.6   \n",
       "1            1       85             66             29        0  26.6   \n",
       "\n",
       "   DiabetesPedigreeFunction  Age  Outcome  \n",
       "0                     0.627   50        1  \n",
       "1                     0.351   31        0  "
      ]
     },
     "execution_count": 3,
     "metadata": {},
     "output_type": "execute_result"
    }
   ],
   "source": [
    "data.head(2)"
   ]
  },
  {
   "cell_type": "code",
   "execution_count": 4,
   "id": "088de176",
   "metadata": {},
   "outputs": [],
   "source": [
    "X = data.drop(['Outcome'],axis =1).values"
   ]
  },
  {
   "cell_type": "code",
   "execution_count": 5,
   "id": "e6430dfb",
   "metadata": {},
   "outputs": [],
   "source": [
    "y = data['Outcome'].values"
   ]
  },
  {
   "cell_type": "code",
   "execution_count": 6,
   "id": "0af32efc",
   "metadata": {},
   "outputs": [],
   "source": [
    "from sklearn.model_selection import train_test_split"
   ]
  },
  {
   "cell_type": "code",
   "execution_count": 7,
   "id": "e26f5c87",
   "metadata": {},
   "outputs": [],
   "source": [
    "x_train,x_test,y_train,y_test = train_test_split(X,y,test_size=0.2,random_state=50)"
   ]
  },
  {
   "cell_type": "code",
   "execution_count": 8,
   "id": "3c6e44d7",
   "metadata": {},
   "outputs": [],
   "source": [
    "from tensorflow.keras.utils import to_categorical"
   ]
  },
  {
   "cell_type": "code",
   "execution_count": 9,
   "id": "d0f05fbd",
   "metadata": {},
   "outputs": [
    {
     "data": {
      "text/plain": [
       "array([0, 1, 0, 0, 0], dtype=int64)"
      ]
     },
     "execution_count": 9,
     "metadata": {},
     "output_type": "execute_result"
    }
   ],
   "source": [
    "y_test[:5]"
   ]
  },
  {
   "cell_type": "code",
   "execution_count": 10,
   "id": "16253c4a",
   "metadata": {},
   "outputs": [
    {
     "data": {
      "text/plain": [
       "array([0, 1, 0, 0, 1], dtype=int64)"
      ]
     },
     "execution_count": 10,
     "metadata": {},
     "output_type": "execute_result"
    }
   ],
   "source": [
    "y_train[:5]"
   ]
  },
  {
   "cell_type": "code",
   "execution_count": 11,
   "id": "37228c51",
   "metadata": {},
   "outputs": [],
   "source": [
    "y_train = to_categorical(y_train)"
   ]
  },
  {
   "cell_type": "code",
   "execution_count": 12,
   "id": "f66daa0b",
   "metadata": {},
   "outputs": [
    {
     "data": {
      "text/plain": [
       "array([[1., 0.],\n",
       "       [0., 1.],\n",
       "       [1., 0.],\n",
       "       [1., 0.],\n",
       "       [0., 1.]], dtype=float32)"
      ]
     },
     "execution_count": 12,
     "metadata": {},
     "output_type": "execute_result"
    }
   ],
   "source": [
    "y_train[:5]"
   ]
  },
  {
   "cell_type": "code",
   "execution_count": 13,
   "id": "8422c23b",
   "metadata": {},
   "outputs": [],
   "source": [
    "y_test = to_categorical(y_test)"
   ]
  },
  {
   "cell_type": "code",
   "execution_count": 14,
   "id": "9cde287b",
   "metadata": {},
   "outputs": [
    {
     "data": {
      "text/plain": [
       "array([[1., 0.],\n",
       "       [0., 1.],\n",
       "       [1., 0.],\n",
       "       [1., 0.],\n",
       "       [1., 0.]], dtype=float32)"
      ]
     },
     "execution_count": 14,
     "metadata": {},
     "output_type": "execute_result"
    }
   ],
   "source": [
    "y_test[:5]"
   ]
  },
  {
   "cell_type": "code",
   "execution_count": 15,
   "id": "13c6204e",
   "metadata": {},
   "outputs": [],
   "source": [
    "from tensorflow.keras.models import Sequential"
   ]
  },
  {
   "cell_type": "code",
   "execution_count": 16,
   "id": "5b3472d9",
   "metadata": {},
   "outputs": [],
   "source": [
    "model = Sequential() #brain without neurons"
   ]
  },
  {
   "cell_type": "code",
   "execution_count": 17,
   "id": "daf1e80d",
   "metadata": {},
   "outputs": [
    {
     "data": {
      "text/plain": [
       "(614, 8)"
      ]
     },
     "execution_count": 17,
     "metadata": {},
     "output_type": "execute_result"
    }
   ],
   "source": [
    "x_train.shape"
   ]
  },
  {
   "cell_type": "code",
   "execution_count": 18,
   "id": "6ddd0570",
   "metadata": {},
   "outputs": [],
   "source": [
    "from tensorflow.keras.layers import Dense"
   ]
  },
  {
   "cell_type": "code",
   "execution_count": 19,
   "id": "73df5d62",
   "metadata": {},
   "outputs": [],
   "source": [
    "model.add(Dense(73, activation='relu', input_shape = (8,)))"
   ]
  },
  {
   "cell_type": "code",
   "execution_count": 20,
   "id": "953d89b9",
   "metadata": {},
   "outputs": [],
   "source": [
    "model.add(Dense(100, activation='relu'))\n",
    "model.add(Dense(500, activation='relu'))\n",
    "model.add(Dense(300, activation='relu'))"
   ]
  },
  {
   "cell_type": "code",
   "execution_count": 21,
   "id": "ef6f885d",
   "metadata": {},
   "outputs": [],
   "source": [
    "model.add(Dense(2, activation='softmax'))"
   ]
  },
  {
   "cell_type": "code",
   "execution_count": 22,
   "id": "47a388cc",
   "metadata": {},
   "outputs": [],
   "source": [
    "model.compile(optimizer='adam', loss = 'categorical_crossentropy', metrics = ['accuracy'])"
   ]
  },
  {
   "cell_type": "code",
   "execution_count": 23,
   "id": "41fd301c",
   "metadata": {},
   "outputs": [
    {
     "name": "stdout",
     "output_type": "stream",
     "text": [
      "Epoch 1/150\n",
      "31/31 [==============================] - 1s 6ms/step - loss: 1.6930 - accuracy: 0.6140\n",
      "Epoch 2/150\n",
      "31/31 [==============================] - 0s 6ms/step - loss: 0.8343 - accuracy: 0.6221\n",
      "Epoch 3/150\n",
      "31/31 [==============================] - 0s 7ms/step - loss: 0.7632 - accuracy: 0.6319\n",
      "Epoch 4/150\n",
      "31/31 [==============================] - 0s 7ms/step - loss: 0.7078 - accuracy: 0.6547\n",
      "Epoch 5/150\n",
      "31/31 [==============================] - 0s 6ms/step - loss: 0.6682 - accuracy: 0.6808\n",
      "Epoch 6/150\n",
      "31/31 [==============================] - 0s 6ms/step - loss: 0.6541 - accuracy: 0.6531\n",
      "Epoch 7/150\n",
      "31/31 [==============================] - 0s 6ms/step - loss: 0.6108 - accuracy: 0.6987\n",
      "Epoch 8/150\n",
      "31/31 [==============================] - 0s 7ms/step - loss: 0.6028 - accuracy: 0.7117\n",
      "Epoch 9/150\n",
      "31/31 [==============================] - 0s 7ms/step - loss: 0.5762 - accuracy: 0.7085\n",
      "Epoch 10/150\n",
      "31/31 [==============================] - 0s 7ms/step - loss: 0.5948 - accuracy: 0.6938\n",
      "Epoch 11/150\n",
      "31/31 [==============================] - 0s 6ms/step - loss: 0.5809 - accuracy: 0.7101\n",
      "Epoch 12/150\n",
      "31/31 [==============================] - 0s 6ms/step - loss: 0.6163 - accuracy: 0.6889\n",
      "Epoch 13/150\n",
      "31/31 [==============================] - 0s 7ms/step - loss: 0.5888 - accuracy: 0.6938\n",
      "Epoch 14/150\n",
      "31/31 [==============================] - 0s 6ms/step - loss: 0.5370 - accuracy: 0.7362\n",
      "Epoch 15/150\n",
      "31/31 [==============================] - 0s 7ms/step - loss: 0.5340 - accuracy: 0.7362\n",
      "Epoch 16/150\n",
      "31/31 [==============================] - 0s 9ms/step - loss: 0.5250 - accuracy: 0.7280\n",
      "Epoch 17/150\n",
      "31/31 [==============================] - 0s 13ms/step - loss: 0.5627 - accuracy: 0.7052\n",
      "Epoch 18/150\n",
      "31/31 [==============================] - 0s 13ms/step - loss: 0.5445 - accuracy: 0.7362\n",
      "Epoch 19/150\n",
      "31/31 [==============================] - 0s 7ms/step - loss: 0.5129 - accuracy: 0.7508\n",
      "Epoch 20/150\n",
      "31/31 [==============================] - 0s 11ms/step - loss: 0.5229 - accuracy: 0.7313\n",
      "Epoch 21/150\n",
      "31/31 [==============================] - 0s 10ms/step - loss: 0.5271 - accuracy: 0.7394\n",
      "Epoch 22/150\n",
      "31/31 [==============================] - 0s 15ms/step - loss: 0.4980 - accuracy: 0.7622\n",
      "Epoch 23/150\n",
      "31/31 [==============================] - 0s 7ms/step - loss: 0.5073 - accuracy: 0.7264\n",
      "Epoch 24/150\n",
      "31/31 [==============================] - 0s 7ms/step - loss: 0.4964 - accuracy: 0.7541\n",
      "Epoch 25/150\n",
      "31/31 [==============================] - 0s 7ms/step - loss: 0.5005 - accuracy: 0.7394\n",
      "Epoch 26/150\n",
      "31/31 [==============================] - 0s 8ms/step - loss: 0.5344 - accuracy: 0.7248\n",
      "Epoch 27/150\n",
      "31/31 [==============================] - 0s 9ms/step - loss: 0.5017 - accuracy: 0.7492\n",
      "Epoch 28/150\n",
      "31/31 [==============================] - 0s 12ms/step - loss: 0.4718 - accuracy: 0.7736\n",
      "Epoch 29/150\n",
      "31/31 [==============================] - 0s 8ms/step - loss: 0.4786 - accuracy: 0.7573\n",
      "Epoch 30/150\n",
      "31/31 [==============================] - 0s 9ms/step - loss: 0.4874 - accuracy: 0.7671\n",
      "Epoch 31/150\n",
      "31/31 [==============================] - 0s 7ms/step - loss: 0.4898 - accuracy: 0.7541\n",
      "Epoch 32/150\n",
      "31/31 [==============================] - 0s 10ms/step - loss: 0.4780 - accuracy: 0.7606\n",
      "Epoch 33/150\n",
      "31/31 [==============================] - 0s 10ms/step - loss: 0.4596 - accuracy: 0.7866\n",
      "Epoch 34/150\n",
      "31/31 [==============================] - 0s 13ms/step - loss: 0.4722 - accuracy: 0.7752\n",
      "Epoch 35/150\n",
      "31/31 [==============================] - 0s 13ms/step - loss: 0.4904 - accuracy: 0.7655\n",
      "Epoch 36/150\n",
      "31/31 [==============================] - 0s 8ms/step - loss: 0.4834 - accuracy: 0.7606\n",
      "Epoch 37/150\n",
      "31/31 [==============================] - 0s 8ms/step - loss: 0.5086 - accuracy: 0.7508\n",
      "Epoch 38/150\n",
      "31/31 [==============================] - 0s 7ms/step - loss: 0.4988 - accuracy: 0.7492\n",
      "Epoch 39/150\n",
      "31/31 [==============================] - 0s 7ms/step - loss: 0.4699 - accuracy: 0.7622\n",
      "Epoch 40/150\n",
      "31/31 [==============================] - 0s 7ms/step - loss: 0.4661 - accuracy: 0.7655\n",
      "Epoch 41/150\n",
      "31/31 [==============================] - 0s 7ms/step - loss: 0.4858 - accuracy: 0.7655\n",
      "Epoch 42/150\n",
      "31/31 [==============================] - 0s 6ms/step - loss: 0.4817 - accuracy: 0.7606\n",
      "Epoch 43/150\n",
      "31/31 [==============================] - 0s 15ms/step - loss: 0.4527 - accuracy: 0.7638\n",
      "Epoch 44/150\n",
      "31/31 [==============================] - 0s 12ms/step - loss: 0.4528 - accuracy: 0.7687\n",
      "Epoch 45/150\n",
      "31/31 [==============================] - 0s 13ms/step - loss: 0.4524 - accuracy: 0.7899\n",
      "Epoch 46/150\n",
      "31/31 [==============================] - 0s 10ms/step - loss: 0.4490 - accuracy: 0.7704\n",
      "Epoch 47/150\n",
      "31/31 [==============================] - 0s 7ms/step - loss: 0.4840 - accuracy: 0.7720\n",
      "Epoch 48/150\n",
      "31/31 [==============================] - 0s 7ms/step - loss: 0.4306 - accuracy: 0.7997\n",
      "Epoch 49/150\n",
      "31/31 [==============================] - 0s 7ms/step - loss: 0.4331 - accuracy: 0.7980\n",
      "Epoch 50/150\n",
      "31/31 [==============================] - 0s 7ms/step - loss: 0.4448 - accuracy: 0.7801\n",
      "Epoch 51/150\n",
      "31/31 [==============================] - 0s 13ms/step - loss: 0.4205 - accuracy: 0.7915\n",
      "Epoch 52/150\n",
      "31/31 [==============================] - 0s 15ms/step - loss: 0.4261 - accuracy: 0.7997\n",
      "Epoch 53/150\n",
      "31/31 [==============================] - 0s 11ms/step - loss: 0.4494 - accuracy: 0.7866\n",
      "Epoch 54/150\n",
      "31/31 [==============================] - 0s 8ms/step - loss: 0.4484 - accuracy: 0.7850\n",
      "Epoch 55/150\n",
      "31/31 [==============================] - 0s 7ms/step - loss: 0.4322 - accuracy: 0.7997\n",
      "Epoch 56/150\n",
      "31/31 [==============================] - 0s 7ms/step - loss: 0.4236 - accuracy: 0.7964\n",
      "Epoch 57/150\n",
      "31/31 [==============================] - 0s 6ms/step - loss: 0.4503 - accuracy: 0.7964\n",
      "Epoch 58/150\n",
      "31/31 [==============================] - 0s 7ms/step - loss: 0.4172 - accuracy: 0.8208\n",
      "Epoch 59/150\n",
      "31/31 [==============================] - 0s 7ms/step - loss: 0.4341 - accuracy: 0.7883\n",
      "Epoch 60/150\n",
      "31/31 [==============================] - 0s 7ms/step - loss: 0.4254 - accuracy: 0.8078\n",
      "Epoch 61/150\n",
      "31/31 [==============================] - 0s 7ms/step - loss: 0.4031 - accuracy: 0.7964\n",
      "Epoch 62/150\n",
      "31/31 [==============================] - 0s 10ms/step - loss: 0.4247 - accuracy: 0.7915\n",
      "Epoch 63/150\n",
      "31/31 [==============================] - 0s 9ms/step - loss: 0.4275 - accuracy: 0.7915\n",
      "Epoch 64/150\n",
      "31/31 [==============================] - 0s 11ms/step - loss: 0.4292 - accuracy: 0.8029\n",
      "Epoch 65/150\n",
      "31/31 [==============================] - 0s 10ms/step - loss: 0.4384 - accuracy: 0.7915\n",
      "Epoch 66/150\n",
      "31/31 [==============================] - 0s 9ms/step - loss: 0.4393 - accuracy: 0.7932\n",
      "Epoch 67/150\n",
      "31/31 [==============================] - 0s 12ms/step - loss: 0.4204 - accuracy: 0.7915\n",
      "Epoch 68/150\n",
      "31/31 [==============================] - 0s 10ms/step - loss: 0.3931 - accuracy: 0.8111\n",
      "Epoch 69/150\n",
      "31/31 [==============================] - 0s 11ms/step - loss: 0.3911 - accuracy: 0.8208\n",
      "Epoch 70/150\n",
      "31/31 [==============================] - 0s 10ms/step - loss: 0.4147 - accuracy: 0.7866\n",
      "Epoch 71/150\n",
      "31/31 [==============================] - 0s 10ms/step - loss: 0.3952 - accuracy: 0.8127\n",
      "Epoch 72/150\n",
      "31/31 [==============================] - 0s 11ms/step - loss: 0.3924 - accuracy: 0.8192\n",
      "Epoch 73/150\n",
      "31/31 [==============================] - 0s 9ms/step - loss: 0.3963 - accuracy: 0.7834\n",
      "Epoch 74/150\n",
      "31/31 [==============================] - 0s 11ms/step - loss: 0.4024 - accuracy: 0.8160\n",
      "Epoch 75/150\n",
      "31/31 [==============================] - 0s 10ms/step - loss: 0.4111 - accuracy: 0.8029\n",
      "Epoch 76/150\n",
      "31/31 [==============================] - 0s 9ms/step - loss: 0.3959 - accuracy: 0.8143\n",
      "Epoch 77/150\n",
      "31/31 [==============================] - 0s 7ms/step - loss: 0.3780 - accuracy: 0.8192\n",
      "Epoch 78/150\n",
      "31/31 [==============================] - 0s 6ms/step - loss: 0.3774 - accuracy: 0.8127\n",
      "Epoch 79/150\n",
      "31/31 [==============================] - 0s 6ms/step - loss: 0.3779 - accuracy: 0.8192\n",
      "Epoch 80/150\n",
      "31/31 [==============================] - 0s 7ms/step - loss: 0.4013 - accuracy: 0.7997\n",
      "Epoch 81/150\n",
      "31/31 [==============================] - 0s 7ms/step - loss: 0.3665 - accuracy: 0.8192\n",
      "Epoch 82/150\n"
     ]
    },
    {
     "name": "stdout",
     "output_type": "stream",
     "text": [
      "31/31 [==============================] - 0s 7ms/step - loss: 0.3581 - accuracy: 0.8388\n",
      "Epoch 83/150\n",
      "31/31 [==============================] - 0s 6ms/step - loss: 0.3882 - accuracy: 0.8257\n",
      "Epoch 84/150\n",
      "31/31 [==============================] - 0s 8ms/step - loss: 0.3765 - accuracy: 0.8241\n",
      "Epoch 85/150\n",
      "31/31 [==============================] - 0s 10ms/step - loss: 0.3417 - accuracy: 0.8306\n",
      "Epoch 86/150\n",
      "31/31 [==============================] - 0s 11ms/step - loss: 0.3471 - accuracy: 0.8404\n",
      "Epoch 87/150\n",
      "31/31 [==============================] - 0s 8ms/step - loss: 0.3402 - accuracy: 0.8502\n",
      "Epoch 88/150\n",
      "31/31 [==============================] - 0s 8ms/step - loss: 0.3779 - accuracy: 0.8127\n",
      "Epoch 89/150\n",
      "31/31 [==============================] - 0s 10ms/step - loss: 0.3412 - accuracy: 0.8518\n",
      "Epoch 90/150\n",
      "31/31 [==============================] - 0s 10ms/step - loss: 0.3174 - accuracy: 0.8632\n",
      "Epoch 91/150\n",
      "31/31 [==============================] - 0s 9ms/step - loss: 0.3291 - accuracy: 0.8469\n",
      "Epoch 92/150\n",
      "31/31 [==============================] - 0s 8ms/step - loss: 0.3150 - accuracy: 0.8583\n",
      "Epoch 93/150\n",
      "31/31 [==============================] - 0s 8ms/step - loss: 0.3315 - accuracy: 0.8518\n",
      "Epoch 94/150\n",
      "31/31 [==============================] - 0s 10ms/step - loss: 0.3455 - accuracy: 0.8306\n",
      "Epoch 95/150\n",
      "31/31 [==============================] - 0s 9ms/step - loss: 0.3436 - accuracy: 0.8404\n",
      "Epoch 96/150\n",
      "31/31 [==============================] - 0s 12ms/step - loss: 0.3213 - accuracy: 0.8502\n",
      "Epoch 97/150\n",
      "31/31 [==============================] - 0s 9ms/step - loss: 0.3368 - accuracy: 0.8322\n",
      "Epoch 98/150\n",
      "31/31 [==============================] - 0s 10ms/step - loss: 0.3412 - accuracy: 0.8453\n",
      "Epoch 99/150\n",
      "31/31 [==============================] - 0s 10ms/step - loss: 0.3368 - accuracy: 0.8453\n",
      "Epoch 100/150\n",
      "31/31 [==============================] - 0s 11ms/step - loss: 0.3235 - accuracy: 0.8567\n",
      "Epoch 101/150\n",
      "31/31 [==============================] - 0s 11ms/step - loss: 0.3154 - accuracy: 0.8599\n",
      "Epoch 102/150\n",
      "31/31 [==============================] - 0s 12ms/step - loss: 0.2925 - accuracy: 0.8746\n",
      "Epoch 103/150\n",
      "31/31 [==============================] - 0s 10ms/step - loss: 0.2948 - accuracy: 0.8632\n",
      "Epoch 104/150\n",
      "31/31 [==============================] - 0s 10ms/step - loss: 0.2909 - accuracy: 0.8746\n",
      "Epoch 105/150\n",
      "31/31 [==============================] - 0s 9ms/step - loss: 0.3254 - accuracy: 0.8420\n",
      "Epoch 106/150\n",
      "31/31 [==============================] - 0s 6ms/step - loss: 0.3256 - accuracy: 0.8388\n",
      "Epoch 107/150\n",
      "31/31 [==============================] - 0s 6ms/step - loss: 0.2936 - accuracy: 0.8697\n",
      "Epoch 108/150\n",
      "31/31 [==============================] - 0s 6ms/step - loss: 0.2967 - accuracy: 0.8713\n",
      "Epoch 109/150\n",
      "31/31 [==============================] - 0s 7ms/step - loss: 0.3086 - accuracy: 0.8583\n",
      "Epoch 110/150\n",
      "31/31 [==============================] - 0s 7ms/step - loss: 0.3524 - accuracy: 0.8322\n",
      "Epoch 111/150\n",
      "31/31 [==============================] - 0s 6ms/step - loss: 0.3104 - accuracy: 0.8550\n",
      "Epoch 112/150\n",
      "31/31 [==============================] - 0s 7ms/step - loss: 0.3266 - accuracy: 0.8550\n",
      "Epoch 113/150\n",
      "31/31 [==============================] - 0s 10ms/step - loss: 0.3041 - accuracy: 0.8632\n",
      "Epoch 114/150\n",
      "31/31 [==============================] - 0s 11ms/step - loss: 0.2519 - accuracy: 0.8925\n",
      "Epoch 115/150\n",
      "31/31 [==============================] - 0s 8ms/step - loss: 0.2712 - accuracy: 0.8762\n",
      "Epoch 116/150\n",
      "31/31 [==============================] - 0s 10ms/step - loss: 0.3003 - accuracy: 0.8616\n",
      "Epoch 117/150\n",
      "31/31 [==============================] - 0s 10ms/step - loss: 0.3648 - accuracy: 0.8274\n",
      "Epoch 118/150\n",
      "31/31 [==============================] - 0s 8ms/step - loss: 0.3405 - accuracy: 0.8453\n",
      "Epoch 119/150\n",
      "31/31 [==============================] - 0s 6ms/step - loss: 0.2955 - accuracy: 0.8664\n",
      "Epoch 120/150\n",
      "31/31 [==============================] - 0s 6ms/step - loss: 0.2787 - accuracy: 0.8599\n",
      "Epoch 121/150\n",
      "31/31 [==============================] - 0s 7ms/step - loss: 0.2602 - accuracy: 0.8827\n",
      "Epoch 122/150\n",
      "31/31 [==============================] - 0s 7ms/step - loss: 0.2215 - accuracy: 0.9104\n",
      "Epoch 123/150\n",
      "31/31 [==============================] - 0s 6ms/step - loss: 0.2704 - accuracy: 0.8697\n",
      "Epoch 124/150\n",
      "31/31 [==============================] - 0s 6ms/step - loss: 0.2376 - accuracy: 0.8958\n",
      "Epoch 125/150\n",
      "31/31 [==============================] - 0s 7ms/step - loss: 0.2928 - accuracy: 0.8746\n",
      "Epoch 126/150\n",
      "31/31 [==============================] - 0s 5ms/step - loss: 0.2814 - accuracy: 0.8811\n",
      "Epoch 127/150\n",
      "31/31 [==============================] - 0s 6ms/step - loss: 0.2445 - accuracy: 0.8958\n",
      "Epoch 128/150\n",
      "31/31 [==============================] - 0s 6ms/step - loss: 0.2338 - accuracy: 0.8860\n",
      "Epoch 129/150\n",
      "31/31 [==============================] - 0s 6ms/step - loss: 0.2344 - accuracy: 0.8844\n",
      "Epoch 130/150\n",
      "31/31 [==============================] - 0s 7ms/step - loss: 0.2427 - accuracy: 0.8925\n",
      "Epoch 131/150\n",
      "31/31 [==============================] - 0s 5ms/step - loss: 0.2197 - accuracy: 0.9072\n",
      "Epoch 132/150\n",
      "31/31 [==============================] - 0s 8ms/step - loss: 0.2464 - accuracy: 0.8779\n",
      "Epoch 133/150\n",
      "31/31 [==============================] - 0s 9ms/step - loss: 0.2312 - accuracy: 0.8974\n",
      "Epoch 134/150\n",
      "31/31 [==============================] - 0s 6ms/step - loss: 0.2569 - accuracy: 0.8844\n",
      "Epoch 135/150\n",
      "31/31 [==============================] - 0s 6ms/step - loss: 0.2064 - accuracy: 0.9153\n",
      "Epoch 136/150\n",
      "31/31 [==============================] - 0s 6ms/step - loss: 0.2322 - accuracy: 0.9055\n",
      "Epoch 137/150\n",
      "31/31 [==============================] - 0s 6ms/step - loss: 0.2929 - accuracy: 0.8730\n",
      "Epoch 138/150\n",
      "31/31 [==============================] - 0s 7ms/step - loss: 0.2499 - accuracy: 0.8860\n",
      "Epoch 139/150\n",
      "31/31 [==============================] - 0s 6ms/step - loss: 0.2224 - accuracy: 0.9039\n",
      "Epoch 140/150\n",
      "31/31 [==============================] - 0s 6ms/step - loss: 0.3053 - accuracy: 0.8518\n",
      "Epoch 141/150\n",
      "31/31 [==============================] - 0s 6ms/step - loss: 0.2998 - accuracy: 0.8567\n",
      "Epoch 142/150\n",
      "31/31 [==============================] - 0s 7ms/step - loss: 0.2363 - accuracy: 0.8958\n",
      "Epoch 143/150\n",
      "31/31 [==============================] - 0s 6ms/step - loss: 0.2183 - accuracy: 0.9023\n",
      "Epoch 144/150\n",
      "31/31 [==============================] - 0s 7ms/step - loss: 0.2211 - accuracy: 0.9039\n",
      "Epoch 145/150\n",
      "31/31 [==============================] - 0s 6ms/step - loss: 0.2299 - accuracy: 0.8941\n",
      "Epoch 146/150\n",
      "31/31 [==============================] - 0s 6ms/step - loss: 0.1949 - accuracy: 0.9153\n",
      "Epoch 147/150\n",
      "31/31 [==============================] - 0s 7ms/step - loss: 0.1698 - accuracy: 0.9300\n",
      "Epoch 148/150\n",
      "31/31 [==============================] - 0s 6ms/step - loss: 0.1818 - accuracy: 0.9300\n",
      "Epoch 149/150\n",
      "31/31 [==============================] - 0s 7ms/step - loss: 0.1931 - accuracy: 0.9088\n",
      "Epoch 150/150\n",
      "31/31 [==============================] - 0s 7ms/step - loss: 0.2538 - accuracy: 0.8974\n"
     ]
    },
    {
     "data": {
      "text/plain": [
       "<keras.callbacks.History at 0x1eced5a5d90>"
      ]
     },
     "execution_count": 23,
     "metadata": {},
     "output_type": "execute_result"
    }
   ],
   "source": [
    "model.fit(x_train,y_train, epochs=150, batch_size = 20, verbose = 1)"
   ]
  },
  {
   "cell_type": "code",
   "execution_count": 24,
   "id": "60742fa3",
   "metadata": {},
   "outputs": [],
   "source": [
    "#keras has its own eualtion methodology"
   ]
  },
  {
   "cell_type": "code",
   "execution_count": 25,
   "id": "fd7f0743",
   "metadata": {},
   "outputs": [
    {
     "name": "stdout",
     "output_type": "stream",
     "text": [
      "5/5 [==============================] - 0s 2ms/step - loss: 1.5493 - accuracy: 0.6494\n"
     ]
    }
   ],
   "source": [
    "scores = model.evaluate(x_test,y_test)"
   ]
  },
  {
   "cell_type": "code",
   "execution_count": 26,
   "id": "71024d7e",
   "metadata": {},
   "outputs": [
    {
     "data": {
      "text/plain": [
       "[1.5493477582931519, 0.649350643157959]"
      ]
     },
     "execution_count": 26,
     "metadata": {},
     "output_type": "execute_result"
    }
   ],
   "source": [
    "scores"
   ]
  },
  {
   "cell_type": "code",
   "execution_count": null,
   "id": "402612c1",
   "metadata": {},
   "outputs": [],
   "source": []
  }
 ],
 "metadata": {
  "kernelspec": {
   "display_name": "Python 3 (ipykernel)",
   "language": "python",
   "name": "python3"
  },
  "language_info": {
   "codemirror_mode": {
    "name": "ipython",
    "version": 3
   },
   "file_extension": ".py",
   "mimetype": "text/x-python",
   "name": "python",
   "nbconvert_exporter": "python",
   "pygments_lexer": "ipython3",
   "version": "3.9.13"
  }
 },
 "nbformat": 4,
 "nbformat_minor": 5
}
